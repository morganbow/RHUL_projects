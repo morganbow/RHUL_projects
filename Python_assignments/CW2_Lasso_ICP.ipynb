{
 "cells": [
  {
   "cell_type": "markdown",
   "metadata": {},
   "source": [
    "# Lasso Regression and Inductive Conformal Prediction applied to the diabetes dataset"
   ]
  },
  {
   "cell_type": "markdown",
   "metadata": {},
   "source": [
    "# Contents\n",
    "# ~~~~~\n",
    "### 1. Lasso Regression on sklearns diabetes dataset\n",
    "### 2. Lasso Regression on the original diabetes dataset\n",
    "### 3. Inductive Conformal Predictors\n",
    "### 4. Results\n",
    "# ~~~~~"
   ]
  },
  {
   "cell_type": "markdown",
   "metadata": {},
   "source": [
    "### 1. Lasso Regression on sklearns diabetes dataset"
   ]
  },
  {
   "cell_type": "code",
   "execution_count": 1,
   "metadata": {},
   "outputs": [],
   "source": [
    "from sklearn.datasets import load_diabetes\n",
    "diabetes = load_diabetes()"
   ]
  },
  {
   "cell_type": "code",
   "execution_count": 2,
   "metadata": {},
   "outputs": [],
   "source": [
    "from sklearn.model_selection import train_test_split\n",
    "X_train, X_test, y_train, y_test = train_test_split(diabetes.data, diabetes.target, random_state=1504)"
   ]
  },
  {
   "cell_type": "code",
   "execution_count": 3,
   "metadata": {},
   "outputs": [
    {
     "name": "stdout",
     "output_type": "stream",
     "text": [
      "The training R squared and test R squared are:  0.34638413252253697 , 0.35427701131789957\n",
      "This model uses  3 features. They're listed below:\n",
      "bmi\n",
      "bp\n",
      "s5\n"
     ]
    }
   ],
   "source": [
    "from sklearn.linear_model import Lasso\n",
    "lasso = Lasso().fit(X_train,y_train)\n",
    "training_R_sqr = lasso.score(X_train,y_train)\n",
    "test_R_sqr = lasso.score(X_test,y_test)\n",
    "\n",
    "nr_of_coeff = sum(0 != lasso.coef_)\n",
    "\n",
    "print(\"The training R squared and test R squared are: \", training_R_sqr , \",\", test_R_sqr)\n",
    "print(\"This model uses \",nr_of_coeff,\"features. They're listed below:\")\n",
    "for i in range(len(lasso.coef_)):\n",
    "    if lasso.coef_[i] != 0:\n",
    "        print(diabetes.feature_names[i])"
   ]
  },
  {
   "cell_type": "markdown",
   "metadata": {},
   "source": [
    "### 2. Lasso Regression on the original diabetes dataset"
   ]
  },
  {
   "cell_type": "code",
   "execution_count": 4,
   "metadata": {},
   "outputs": [],
   "source": [
    "import numpy as np\n",
    "diabetes_data = np.genfromtxt('diabetes_data.txt', usecols=np.arange(10), skip_header=1)\n",
    "diabetes_target = np.genfromtxt('diabetes_data.txt', usecols=10, skip_header=1)\n",
    "X_train, X_test, y_train, y_test = train_test_split(diabetes_data, diabetes_target, random_state=1504)"
   ]
  },
  {
   "cell_type": "code",
   "execution_count": 5,
   "metadata": {},
   "outputs": [
    {
     "name": "stdout",
     "output_type": "stream",
     "text": [
      "The training R squared and test R squared are:  0.5012095757779301 , 0.5314792176453547\n",
      "This model uses  9 features. They're listed below:\n",
      "age\n",
      "sex\n",
      "bmi\n",
      "bp\n",
      "s1\n",
      "s2\n",
      "s3\n",
      "s5\n",
      "s6\n"
     ]
    }
   ],
   "source": [
    "lasso = Lasso().fit(X_train,y_train)\n",
    "training_R_sqr = lasso.score(X_train,y_train)\n",
    "test_R_sqr = lasso.score(X_test,y_test)\n",
    "\n",
    "nr_of_coeff = sum(0 != lasso.coef_)\n",
    "\n",
    "print(\"The training R squared and test R squared are: \", training_R_sqr , \",\", test_R_sqr)\n",
    "print(\"This model uses \",nr_of_coeff,\"features. They're listed below:\")\n",
    "for i in range(len(lasso.coef_)):\n",
    "    if lasso.coef_[i] != 0:\n",
    "        print(diabetes.feature_names[i])"
   ]
  },
  {
   "cell_type": "markdown",
   "metadata": {},
   "source": [
    "With the original, unscaled data there is both a higher Test R squared and Training R squared. Also the Lasso Regression with the original, unscaled data did not set any of the features to 0 and used all 9 features. Whereas the dataset from sklearn reduced down to just 3 features after Lasso was fitted."
   ]
  },
  {
   "cell_type": "code",
   "execution_count": 6,
   "metadata": {},
   "outputs": [],
   "source": [
    "from sklearn.preprocessing import StandardScaler\n",
    "scaler = StandardScaler().fit(X_train)\n",
    "X_train_scaled = scaler.transform(X_train)\n",
    "X_test_scaled = scaler.transform(X_test)"
   ]
  },
  {
   "cell_type": "code",
   "execution_count": 7,
   "metadata": {},
   "outputs": [
    {
     "name": "stdout",
     "output_type": "stream",
     "text": [
      "The training R squared and test R squared are:  0.5026484682221571 , 0.5349350288709731\n",
      "This model uses  8 features. They're listed below:\n",
      "age\n",
      "sex\n",
      "bmi\n",
      "bp\n",
      "s1\n",
      "s3\n",
      "s5\n",
      "s6\n"
     ]
    }
   ],
   "source": [
    "lasso = Lasso().fit(X_train_scaled,y_train)\n",
    "training_R_sqr = lasso.score(X_train_scaled,y_train)\n",
    "test_R_sqr = lasso.score(X_test_scaled,y_test)\n",
    "\n",
    "nr_of_coeff = sum(0 != lasso.coef_)\n",
    "\n",
    "print(\"The training R squared and test R squared are: \", training_R_sqr , \",\", test_R_sqr)\n",
    "print(\"This model uses \",nr_of_coeff,\"features. They're listed below:\")\n",
    "for i in range(len(lasso.coef_)):\n",
    "    if lasso.coef_[i] != 0:\n",
    "        print(diabetes.feature_names[i])"
   ]
  },
  {
   "cell_type": "markdown",
   "metadata": {},
   "source": [
    "These results are closer to the results obtained in the previous Lasso Regression, where the original unscaled data was used. This is because the data has been scaled down using only the training data here. In the first Lasso model the training data and the test data were both normalized at the same time, which caused data snooping. This data snooping caused errors in the model which led to the model setting too many features to zero and the R squared being low."
   ]
  },
  {
   "cell_type": "code",
   "execution_count": 9,
   "metadata": {},
   "outputs": [
    {
     "data": {
      "image/png": "[encoded data removed]",
      "text/plain": [
       "<Figure size 432x288 with 1 Axes>"
      ]
     },
     "metadata": {
      "needs_background": "light"
     },
     "output_type": "display_data"
    }
   ],
   "source": [
    "alpha = list(np.arange(0.1,40,0.1))\n",
    "coef_count = []\n",
    "test_R_sqr = []\n",
    "alpha4legend = []\n",
    "for i in alpha:\n",
    "    lasso = Lasso(alpha=i ,max_iter=1000000).fit(X_train_scaled,y_train)\n",
    "    if sum(lasso.coef_ != 0) not in coef_count:\n",
    "        test_R_sqr.append(lasso.score(X_test_scaled,y_test))\n",
    "        coef_count.append(sum(lasso.coef_ != 0))\n",
    "        i = round(i,3)\n",
    "        alpha4legend.append(i)\n",
    "        \n",
    "import matplotlib.pyplot as plt\n",
    "plt.plot(coef_count, test_R_sqr, color='r', marker='*', mec='black',\\\n",
    "         mfc='white', ms=10, linestyle='dashed', linewidth=1)\n",
    "for i in np.arange(1,8,2):\n",
    "    plt.annotate(\"alpha=\"+str(alpha4legend[i]),(coef_count[i],test_R_sqr[i]),\\\n",
    "                 xytext = (coef_count[i],(test_R_sqr[i]-0.035)),\\\n",
    "                 arrowprops=dict(width=3,headwidth=8,facecolor='pink'))\n",
    "plt.xlabel(\"no. of parameters(p)\")\n",
    "plt.ylabel(\"Test R sqr\")    \n",
    "plt.title(\"Lasso Test R sqr with varying number of paramaters\")    \n",
    "plt.grid()\n",
    "plt.show()"
   ]
  },
  {
   "cell_type": "markdown",
   "metadata": {},
   "source": [
    "The point I prefer is when the number of parameters = 7 and alpha = 1.5. This is because the gradient of the Test R squared line hasn't started to increase meaning the models with more parameters have a similar Test R squared. The models with less parameters occur when the gradient has started to increase. This means if I picked a greater value of alpha with less parameters, the Test R squared would be signifcantly lower. "
   ]
  },
  {
   "cell_type": "code",
   "execution_count": 1,
   "metadata": {},
   "outputs": [],
   "source": [
    "import math\n",
    "def argmax_finder(x):\n",
    "    \"\"\"Finds the maximum value of the list or array that is inputed\"\"\"\n",
    "    max = - math.inf\n",
    "    argmin = 0\n",
    "    for i in range (len(x)):\n",
    "        if x[i] > max:\n",
    "            max = x[i]\n",
    "            argmin = i\n",
    "    return argmin"
   ]
  },
  {
   "cell_type": "code",
   "execution_count": 11,
   "metadata": {},
   "outputs": [
    {
     "name": "stdout",
     "output_type": "stream",
     "text": [
      "The best alpha is:  1.788\n"
     ]
    }
   ],
   "source": [
    "from sklearn.model_selection import cross_val_score\n",
    "alpha = list(np.arange(0.1,3,0.001))\n",
    "results = np.empty(len(alpha))\n",
    "for i in range(len(alpha)):\n",
    "    lasso = Lasso(alpha=alpha[i])\n",
    "    results[i] = np.mean(cross_val_score(lasso,X_train_scaled,y_train,cv=5))\n",
    "best_alpha = alpha[argmax_finder(list(results))]\n",
    "print(\"The best alpha is: \", round(best_alpha,4))"
   ]
  },
  {
   "cell_type": "code",
   "execution_count": 12,
   "metadata": {},
   "outputs": [
    {
     "name": "stdout",
     "output_type": "stream",
     "text": [
      "The training R squared and test R squared are:  0.49947755360242496 , 0.5301454149294988\n",
      "This model uses  7 features. They're listed below:\n",
      "sex\n",
      "bmi\n",
      "bp\n",
      "s1\n",
      "s3\n",
      "s5\n",
      "s6\n"
     ]
    }
   ],
   "source": [
    "lasso = Lasso(alpha=best_alpha).fit(X_train_scaled,y_train)\n",
    "training_R_sqr = lasso.score(X_train_scaled,y_train)\n",
    "test_R_sqr = lasso.score(X_test_scaled,y_test)\n",
    "\n",
    "nr_of_coeff = sum(0 != lasso.coef_)\n",
    "\n",
    "print(\"The training R squared and test R squared are: \", training_R_sqr , \",\", test_R_sqr)\n",
    "print(\"This model uses \",nr_of_coeff,\"features. They're listed below:\")\n",
    "for i in range(len(lasso.coef_)):\n",
    "    if lasso.coef_[i] != 0:\n",
    "        print(diabetes.feature_names[i])"
   ]
  },
  {
   "cell_type": "markdown",
   "metadata": {},
   "source": [
    "### 3. Inductive Conformal Predictors"
   ]
  },
  {
   "cell_type": "code",
   "execution_count": 13,
   "metadata": {},
   "outputs": [],
   "source": [
    "X_train_proper, X_calibration, y_train_proper, y_calibration = train_test_split(X_train, y_train, test_size=99, random_state=1504)\n",
    "\n",
    "scaler = StandardScaler().fit(X_train_proper)\n",
    "\n",
    "X_train_proper_scaled = scaler.transform(X_train_proper)\n",
    "X_calibration_scaled = scaler.transform(X_calibration)\n",
    "X_test_scaled = scaler.transform(X_test)"
   ]
  },
  {
   "cell_type": "code",
   "execution_count": 14,
   "metadata": {},
   "outputs": [],
   "source": [
    "lasso = Lasso().fit(X_train_proper_scaled,y_train_proper)"
   ]
  },
  {
   "cell_type": "markdown",
   "metadata": {},
   "source": [
    "When finding the 2 values of k below I took one away from the result because k=1 needs to apply to index 0 of alpha."
   ]
  },
  {
   "cell_type": "code",
   "execution_count": 15,
   "metadata": {},
   "outputs": [],
   "source": [
    "k5 = int(((1-0.05)*(99+1))-1) \n",
    "k20 = int(((1-0.2)*(99+1))-1) "
   ]
  },
  {
   "cell_type": "code",
   "execution_count": 16,
   "metadata": {},
   "outputs": [],
   "source": [
    "alpha = abs(y_calibration - lasso.predict(X_calibration_scaled))"
   ]
  },
  {
   "cell_type": "code",
   "execution_count": 17,
   "metadata": {},
   "outputs": [],
   "source": [
    "alpha = np.sort(alpha)"
   ]
  },
  {
   "cell_type": "code",
   "execution_count": 1,
   "metadata": {},
   "outputs": [
    {
     "ename": "NameError",
     "evalue": "name 'y_calibration' is not defined",
     "output_type": "error",
     "traceback": [
      "\u001b[0;31m---------------------------------------------------------------------------\u001b[0m",
      "\u001b[0;31mNameError\u001b[0m                                 Traceback (most recent call last)",
      "\u001b[0;32m<ipython-input-1-0ee9c5f010d1>\u001b[0m in \u001b[0;36m<module>\u001b[0;34m\u001b[0m\n\u001b[0;32m----> 1\u001b[0;31m \u001b[0my_calibration\u001b[0m\u001b[0;34m[\u001b[0m\u001b[0;36m0\u001b[0m\u001b[0;34m:\u001b[0m\u001b[0;36m2\u001b[0m\u001b[0;34m]\u001b[0m\u001b[0;34m\u001b[0m\u001b[0;34m\u001b[0m\u001b[0m\n\u001b[0m",
      "\u001b[0;31mNameError\u001b[0m: name 'y_calibration' is not defined"
     ]
    }
   ],
   "source": [
    "y_calibration[0:2]"
   ]
  },
  {
   "cell_type": "code",
   "execution_count": 18,
   "metadata": {},
   "outputs": [
    {
     "name": "stdout",
     "output_type": "stream",
     "text": [
      "The first 5 prediction sets at 5% significance level are shown below:\n",
      "[[  8.02063926 223.57095317]\n",
      " [-17.11438469 198.43592922]\n",
      " [111.43063701 326.98095092]\n",
      " [ -5.2998806  210.25043331]\n",
      " [ 37.1502117  252.70052561]]\n",
      "The first 5 prediction sets at 20% significance level are shown below:\n",
      "[[ 46.47152613 185.12006631]\n",
      " [ 21.33650217 159.98504235]\n",
      " [149.88152388 288.53006406]\n",
      " [ 33.15100626 171.79954644]\n",
      " [ 75.60109857 214.24963875]]\n"
     ]
    }
   ],
   "source": [
    "if alpha[k5] == alpha[k5+1]\n",
    "\n",
    "\n",
    "c5 = alpha[k5]\n",
    "c20 = alpha[k20]\n",
    "prediction_5 = np.empty(shape=(len(X_test_scaled),2))\n",
    "prediction_20 = np.empty(shape=(len(X_test_scaled),2))\n",
    "for i in range(len(X_test_scaled)):\n",
    "    pred_lower_5 = lasso.predict(X_test_scaled)[i] - c5\n",
    "    pred_higher_5 = lasso.predict(X_test_scaled)[i] + c5\n",
    "    pred_lower_20 = lasso.predict(X_test_scaled)[i] - c20\n",
    "    pred_higher_20 = lasso.predict(X_test_scaled)[i] + c20\n",
    "    prediction_5[i] = [pred_lower_5,pred_higher_5]\n",
    "    prediction_20[i] = [pred_lower_20,pred_higher_20]\n",
    "print(\"The first 5 prediction sets at 5% significance level are shown below:\")  \n",
    "print(prediction_5[0:5])\n",
    "print(\"The first 5 prediction sets at 20% significance level are shown below:\")  \n",
    "print(prediction_20[0:5])"
   ]
  },
  {
   "cell_type": "code",
   "execution_count": 19,
   "metadata": {},
   "outputs": [
    {
     "name": "stdout",
     "output_type": "stream",
     "text": [
      "The length of the prediction intervals for the test sample at 5% significance is:  215.55031391017167\n",
      "The length of the prediction intervals for the test sample at 20% significance is:  138.64854017676583\n"
     ]
    }
   ],
   "source": [
    "print(\"The length of the prediction intervals for the test sample at 5% significance is: \", c5*2)\n",
    "print(\"The length of the prediction intervals for the test sample at 20% significance is: \", c20*2)"
   ]
  },
  {
   "cell_type": "code",
   "execution_count": 20,
   "metadata": {},
   "outputs": [
    {
     "name": "stdout",
     "output_type": "stream",
     "text": [
      "The test error rate at the 5% significance level is:  0.02703\n"
     ]
    }
   ],
   "source": [
    "error=0\n",
    "for i in range(len(y_test)):\n",
    "    if not(y_test[i]<prediction_5[i,1] and y_test[i]>prediction_5[i,0]):\n",
    "        error += 1\n",
    "error_rate5 = error/len(y_test)\n",
    "print(\"The test error rate at the 5% significance level is: \", round(error_rate5,5))\n",
    "        "
   ]
  },
  {
   "cell_type": "code",
   "execution_count": 22,
   "metadata": {},
   "outputs": [
    {
     "name": "stdout",
     "output_type": "stream",
     "text": [
      "The test error rate at the 20% significance level is:  0.21622\n"
     ]
    }
   ],
   "source": [
    "error=0\n",
    "for i in range(len(y_test)):\n",
    "    if not(y_test[i]<prediction_20[i,1] and y_test[i]>prediction_20[i,0]):\n",
    "        error += 1\n",
    "error_rate20 = error/len(y_test)\n",
    "print(\"The test error rate at the 20% significance level is: \", round(error_rate20,5))"
   ]
  },
  {
   "cell_type": "markdown",
   "metadata": {},
   "source": [
    "### 4. Results"
   ]
  },
  {
   "cell_type": "markdown",
   "metadata": {},
   "source": [
    "### All results have been rounded to 3 significant figures.\n",
    "\n",
    "* Training $R^2$ for sklearn diabetes data Lasso model = 0.346\n",
    "* Test $R^2$ for sklearn diabetes data Lasso model = 0.354\n",
    "* Number of parameters used for sklearn diabetes data Lasso model = 3\n",
    "* Training $R^2$ for non normalized parameters of the original diabetes Lasso model = 0.501\n",
    "* Test $R^2$ for non normalized parameters of the original diabetes Lasso model = 0.531\n",
    "* Number of parameters used for non normalized parameters of the original diabetes Lasso model = 9\n",
    "* Training $R^2$ for normalized parameters of the original diabetes Lasso model = 0.503\n",
    "* Test $R^2$ for normalized parameters of the original diabetes Lasso model = 0.535\n",
    "* Number of parameters used for normalized parameters of the original diabetes Lasso model = 8\n",
    "* Training $R^2$ for normalized parameters of the original diabetes using the best parameters from cross-validation Lasso model = 0.499\n",
    "* Test $R^2$ for normalized parameters of the original diabetes using the best parameters from cross-validation Lasso model = 0.530\n",
    "* Number of parameters used for normalized parameters of the original diabetes using the best parameters from cross-validation Lasso model = 7\n",
    "* The length of the test prediction interval at 5% significance level = 216\n",
    "* The length of the test prediction interval at 20% significance level = 139\n",
    "* The test error rate at the 5% significance level = 0.0270\n",
    "* The test error rate at the 20% significance level = 0.216"
   ]
  }
 ],
 "metadata": {
  "kernelspec": {
   "display_name": "Python 3",
   "language": "python",
   "name": "python3"
  },
  "language_info": {
   "codemirror_mode": {
    "name": "ipython",
    "version": 3
   },
   "file_extension": ".py",
   "mimetype": "text/x-python",
   "name": "python",
   "nbconvert_exporter": "python",
   "pygments_lexer": "ipython3",
   "version": "3.7.3"
  }
 },
 "nbformat": 4,
 "nbformat_minor": 2
}
