{
 "cells": [
  {
   "cell_type": "markdown",
   "metadata": {},
   "source": [
    "# Implementing support vector machine algorithms and cross conformal prediction on the wine dataset from sklearn and the USPS dataset"
   ]
  },
  {
   "cell_type": "markdown",
   "metadata": {},
   "source": [
    "# Contents\n",
    "# ---------------\n",
    "### 1) SVM on the wine dataset\n",
    "### 2) SVM on the USPS dataset\n",
    "### 3) SVM with cross-conformal prediction on the wine dataset\n",
    "### 4) SVM with cross-confromal prediction on the USPS dataset\n",
    "### 5) Results\n",
    "# ---------------"
   ]
  },
  {
   "cell_type": "markdown",
   "metadata": {},
   "source": [
    "# 1. SVM on the wine dataset"
   ]
  },
  {
   "cell_type": "code",
   "execution_count": 1,
   "metadata": {},
   "outputs": [],
   "source": [
    "from sklearn.datasets import load_wine\n",
    "from sklearn.model_selection import train_test_split\n",
    "wine = load_wine()\n",
    "X_train, X_test, y_train, y_test = train_test_split(wine.data, wine.target, random_state=1504)"
   ]
  },
  {
   "cell_type": "code",
   "execution_count": 2,
   "metadata": {},
   "outputs": [
    {
     "name": "stdout",
     "output_type": "stream",
     "text": [
      "The training set generalization accuracy is: 0.4364265364265364\n",
      "The test error rate is: 0.6222222222222222\n"
     ]
    }
   ],
   "source": [
    "from sklearn.model_selection import cross_val_score\n",
    "from sklearn.svm import SVC\n",
    "import numpy as np\n",
    "#Set gamma = 'auto' to stop a warning message mentioning an update to the SVC class\n",
    "svc = SVC(gamma='auto')\n",
    "scores = cross_val_score(svc, X_train, y_train, cv=5)\n",
    "train_accuracy = sum(scores)/len(scores)\n",
    "print(\"The training set generalization accuracy is:\", train_accuracy)\n",
    "svc.fit(X_train, y_train)\n",
    "test_error_rate = sum(np.argmax(svc.decision_function(X_test), axis=1)!=y_test)/len(X_test)\n",
    "print(\"The test error rate is:\", test_error_rate)"
   ]
  },
  {
   "cell_type": "markdown",
   "metadata": {},
   "source": [
    "Due to the gamma and C paramters not being tuned and the data not being normalized we see a low accuracy for the training data and a high error rate on the test data. Both the high error rate and low generlalization accuracy indicate show that our resukts can be greatly improved upon. This will be done by normalising the data and cgoosing the best parameters."
   ]
  },
  {
   "cell_type": "markdown",
   "metadata": {},
   "source": [
    "### Next I found the best normalizer for the data and also the best parameters for that normalizer."
   ]
  },
  {
   "cell_type": "code",
   "execution_count": 3,
   "metadata": {
    "scrolled": true
   },
   "outputs": [
    {
     "name": "stdout",
     "output_type": "stream",
     "text": [
      "MinMaxScaler test error rate and best paramters: (0.022222222222222254, {'svc__C': 1, 'svc__gamma': 1})\n",
      "StandardScaler test error rate and best paramters: (0.022222222222222254, {'svc__C': 1, 'svc__gamma': 0.01})\n",
      "RobustScaler test error rate and best paramters: (0.022222222222222254, {'svc__C': 1, 'svc__gamma': 0.1})\n",
      "Normalizer test error rate and best paramters: (0.0444444444444444, {'svc__C': 100, 'svc__gamma': 100})\n"
     ]
    }
   ],
   "source": [
    "from sklearn.preprocessing import MinMaxScaler, StandardScaler, RobustScaler, Normalizer\n",
    "from sklearn.pipeline import make_pipeline\n",
    "from sklearn.model_selection import GridSearchCV\n",
    "param_grid ={'svc__C': [0.01, 0.1, 1, 10, 100],\n",
    "    'svc__gamma': [0.001, 0.01, 0.1, 1, 10, 100]}\n",
    "min_max_scaler = MinMaxScaler()\n",
    "standard_scaler = StandardScaler()\n",
    "robust_scaler = RobustScaler()\n",
    "normalizer = Normalizer()\n",
    "scalers = (min_max_scaler, standard_scaler, robust_scaler, normalizer)\n",
    "scores = {}\n",
    "for scaler in scalers:\n",
    "    pipe = make_pipeline(scaler, SVC())\n",
    "    grid = GridSearchCV(pipe, param_grid=param_grid, cv=5, iid='True')\n",
    "    grid.fit(X_train, y_train)\n",
    "    a = str(scaler).split(\"(\")\n",
    "    a = str(a[0])\n",
    "    scores[a] = (1 - grid.score(X_test,y_test), grid.best_params_)\n",
    "print(\"MinMaxScaler test error rate and best paramters:\", scores['MinMaxScaler'])\n",
    "print(\"StandardScaler test error rate and best paramters:\", scores['StandardScaler'])\n",
    "print(\"RobustScaler test error rate and best paramters:\", scores['RobustScaler'])\n",
    "print(\"Normalizer test error rate and best paramters:\", scores['Normalizer'])"
   ]
  },
  {
   "cell_type": "markdown",
   "metadata": {},
   "source": [
    "The reults show that MinMaxScaler, StandardScaler and RobustScaler all perform equally well but all use slightly different values for the parameters C and gamma.."
   ]
  },
  {
   "cell_type": "code",
   "execution_count": 4,
   "metadata": {},
   "outputs": [
    {
     "name": "stdout",
     "output_type": "stream",
     "text": [
      "Non-normalized data test error rate and best parameters (0.1777777777777778, {'C': 100, 'gamma': 0.001})\n"
     ]
    }
   ],
   "source": [
    "svc = SVC()\n",
    "param_grid ={'C': [0.01, 0.1, 1, 10, 100],\n",
    "    'gamma': [0.001, 0.01, 0.1, 1, 10, 100]}\n",
    "grid = GridSearchCV(svc, param_grid=param_grid, cv=5, iid='True')\n",
    "grid.fit(X_train, y_train)\n",
    "scores = (1- grid.score(X_test,y_test), grid.best_params_)\n",
    "print(\"Non-normalized data test error rate and best parameters\", scores)"
   ]
  },
  {
   "cell_type": "markdown",
   "metadata": {},
   "source": [
    "Here is the test error rate if the GridSearch was used to find the best parameters but the data was not normalized. The error rate is a clear improvement on the initial error rate that was obtained before we tuned the parameters or normalized the data. On the other hand, it is also a much worse error rate then the results obtained when we normalized the data and found the best parameters. This highlights the importance of both normalization and parameter selection in creating the best model for the wine dataset."
   ]
  },
  {
   "cell_type": "markdown",
   "metadata": {},
   "source": [
    "# 2. SVM on the USPS dataset"
   ]
  },
  {
   "cell_type": "code",
   "execution_count": 5,
   "metadata": {},
   "outputs": [],
   "source": [
    "import numpy as np\n",
    "X1 = np.genfromtxt(\"digit_test.txt\", delimiter=\" \", usecols=np.arange(256)+1)\n",
    "X2 = np.genfromtxt(\"digit_train.txt\", delimiter=\" \", usecols=np.arange(256)+1)\n",
    "y1 = np.genfromtxt(\"digit_test.txt\", delimiter=\" \", usecols=0)\n",
    "y2 = np.genfromtxt(\"digit_train.txt\", delimiter=\" \", usecols=0)\n",
    "X = np.concatenate((X1,X2))\n",
    "y = np.concatenate((y1,y2))\n",
    "X_train, X_test, y_train, y_test = train_test_split(X, y, random_state=1504)"
   ]
  },
  {
   "cell_type": "code",
   "execution_count": 6,
   "metadata": {},
   "outputs": [
    {
     "name": "stdout",
     "output_type": "stream",
     "text": [
      "The training set generalization accuracy is: 0.9685931597850266\n",
      "The test error rate is: 0.03483870967741935\n"
     ]
    }
   ],
   "source": [
    "svc = SVC(gamma='auto')\n",
    "scores = cross_val_score(svc, X_train, y_train, cv=5)\n",
    "train_accuracy = sum(scores)/len(scores)\n",
    "print(\"The training set generalization accuracy is:\", train_accuracy)\n",
    "svc.fit(X_train, y_train)\n",
    "test_error_rate = (sum(svc.predict(X_test)!=y_test))/len(X_test)\n",
    "print(\"The test error rate is:\", test_error_rate)"
   ]
  },
  {
   "cell_type": "markdown",
   "metadata": {},
   "source": [
    "The training set generalization accuracy and test error rate imply that the model gives accurate results even before gamma and C have been tuned and the data has been normalized. It is clear to see actually from looking at the first observation from the data, shown below, that normalization of the data will not improve the results as all of the features are already in a range from [-1,1]. I will still normalize the data with all the scaler options to comfirm this hypothesis."
   ]
  },
  {
   "cell_type": "code",
   "execution_count": 7,
   "metadata": {},
   "outputs": [
    {
     "data": {
      "text/plain": [
       "array([-1.   , -1.   , -1.   , -1.   , -1.   , -0.948, -0.561,  0.148,\n",
       "        0.384,  0.904,  0.29 , -0.782, -1.   , -1.   , -1.   , -1.   ,\n",
       "       -1.   , -1.   , -1.   , -1.   , -0.748,  0.588,  1.   ,  1.   ,\n",
       "        0.991,  0.915,  1.   ,  0.931, -0.476, -1.   , -1.   , -1.   ,\n",
       "       -1.   , -1.   , -1.   , -0.787,  0.794,  1.   ,  0.727, -0.178,\n",
       "       -0.693, -0.786, -0.624,  0.834,  0.756, -0.822, -1.   , -1.   ,\n",
       "       -1.   , -1.   , -0.922,  0.81 ,  1.   ,  0.01 , -0.928, -1.   ,\n",
       "       -1.   , -1.   , -1.   , -0.39 ,  1.   ,  0.271, -1.   , -1.   ,\n",
       "       -1.   , -1.   ,  0.012,  1.   ,  0.248, -1.   , -1.   , -1.   ,\n",
       "       -1.   , -1.   , -0.402,  0.326,  1.   ,  0.801, -0.998, -1.   ,\n",
       "       -1.   , -0.981,  0.645,  1.   , -0.687, -1.   , -1.   , -1.   ,\n",
       "       -1.   , -0.792,  0.976,  1.   ,  1.   ,  0.413, -0.976, -1.   ,\n",
       "       -1.   , -0.993,  0.834,  0.897, -0.951, -1.   , -1.   , -1.   ,\n",
       "       -0.831,  0.14 ,  1.   ,  1.   ,  0.302, -0.889, -1.   , -1.   ,\n",
       "       -1.   , -1.   ,  0.356,  0.794, -0.836, -1.   , -0.445,  0.074,\n",
       "        0.833,  1.   ,  1.   ,  0.696, -0.881, -1.   , -1.   , -1.   ,\n",
       "       -1.   , -1.   , -0.368,  0.955,  1.   ,  1.   ,  1.   ,  1.   ,\n",
       "        0.905,  1.   ,  1.   , -0.262, -1.   , -1.   , -1.   , -1.   ,\n",
       "       -1.   , -1.   , -1.   , -0.507,  0.451,  0.692,  0.692, -0.007,\n",
       "       -0.237,  1.   ,  0.882, -0.795, -1.   , -1.   , -1.   , -1.   ,\n",
       "       -1.   , -1.   , -1.   , -1.   , -1.   , -1.   , -1.   , -1.   ,\n",
       "        0.155,  1.   ,  0.436, -1.   , -1.   , -1.   , -1.   , -1.   ,\n",
       "       -1.   , -1.   , -1.   , -1.   , -1.   , -1.   , -1.   , -0.991,\n",
       "        0.703,  1.   , -0.025, -1.   , -1.   , -1.   , -1.   , -1.   ,\n",
       "       -1.   , -1.   , -1.   , -1.   , -1.   , -1.   , -1.   , -0.833,\n",
       "        0.959,  1.   , -0.629, -1.   , -1.   , -1.   , -1.   , -1.   ,\n",
       "       -1.   , -1.   , -1.   , -1.   , -1.   , -1.   , -1.   , -0.6  ,\n",
       "        0.998,  0.841, -0.932, -1.   , -1.   , -1.   , -1.   , -1.   ,\n",
       "       -1.   , -1.   , -1.   , -1.   , -1.   , -1.   , -1.   , -0.424,\n",
       "        1.   ,  0.732, -1.   , -1.   , -1.   , -1.   , -1.   , -1.   ,\n",
       "       -1.   , -1.   , -1.   , -1.   , -1.   , -1.   , -1.   , -0.908,\n",
       "        0.43 ,  0.622, -0.973, -1.   , -1.   , -1.   , -1.   , -1.   ])"
      ]
     },
     "execution_count": 7,
     "metadata": {},
     "output_type": "execute_result"
    }
   ],
   "source": [
    "X[0]"
   ]
  },
  {
   "cell_type": "code",
   "execution_count": 8,
   "metadata": {
    "scrolled": true
   },
   "outputs": [
    {
     "name": "stdout",
     "output_type": "stream",
     "text": [
      "MinMaxScaler test error rate and best paramters: (0.029247311827957034, {'svc__C': 100, 'svc__gamma': 0.01})\n",
      "StandardScaler test error rate and best paramters: (0.03139784946236557, {'svc__C': 10, 'svc__gamma': 0.001})\n",
      "RobustScaler test error rate and best paramters: (0.12301075268817208, {'svc__C': 100, 'svc__gamma': 0.001})\n",
      "Normalizer test error rate and best paramters: (0.027956989247311825, {'svc__C': 10, 'svc__gamma': 1})\n"
     ]
    }
   ],
   "source": [
    "from sklearn.preprocessing import MinMaxScaler, StandardScaler, RobustScaler, Normalizer\n",
    "from sklearn.pipeline import make_pipeline\n",
    "from sklearn.model_selection import GridSearchCV\n",
    "param_grid ={'svc__C': [0.01, 0.1, 1, 10, 100],\n",
    "    'svc__gamma': [0.001, 0.01, 0.1, 1, 10, 100]}\n",
    "min_max_scaler = MinMaxScaler()\n",
    "standard_scaler = StandardScaler()\n",
    "robust_scaler = RobustScaler()\n",
    "normalizer = Normalizer()\n",
    "scalers = (min_max_scaler, standard_scaler, robust_scaler, normalizer)\n",
    "scores = {}\n",
    "for scaler in scalers:\n",
    "    pipe = make_pipeline(scaler, SVC())\n",
    "    grid = GridSearchCV(pipe, param_grid=param_grid, cv=5, iid='True', n_jobs = -1)\n",
    "    grid.fit(X_train, y_train)\n",
    "    a = str(scaler).split(\"(\")\n",
    "    a = str(a[0])\n",
    "    scores[a] = (1 - grid.score(X_test,y_test), grid.best_params_)\n",
    "print(\"MinMaxScaler test error rate and best paramters:\", scores['MinMaxScaler'])\n",
    "print(\"StandardScaler test error rate and best paramters:\", scores['StandardScaler'])\n",
    "print(\"RobustScaler test error rate and best paramters:\", scores['RobustScaler'])\n",
    "print(\"Normalizer test error rate and best paramters:\", scores['Normalizer'])"
   ]
  },
  {
   "cell_type": "markdown",
   "metadata": {},
   "source": [
    "It can be seen that the Normalizer scaler gives the lowest test error rate. Now I will find the best parameters without normalizing the data to see if my hypothesis that normalizing the data is unnecessary is true."
   ]
  },
  {
   "cell_type": "code",
   "execution_count": 9,
   "metadata": {
    "scrolled": false
   },
   "outputs": [
    {
     "name": "stdout",
     "output_type": "stream",
     "text": [
      "Non-normalized data test error rate and best parameters (0.026236559139784954, {'C': 10, 'gamma': 0.01})\n"
     ]
    }
   ],
   "source": [
    "svc = SVC()\n",
    "param_grid ={'C': [0.01, 0.1, 1, 10, 100],\n",
    "    'gamma': [0.001, 0.01, 0.1, 1, 10, 100]}\n",
    "grid = GridSearchCV(svc, param_grid=param_grid, cv=5, iid='True', n_jobs = -1)\n",
    "grid.fit(X_train, y_train)\n",
    "scores = (1 - grid.score(X_test,y_test), grid.best_params_)\n",
    "print(\"Non-normalized data test error rate and best parameters\", scores)"
   ]
  },
  {
   "cell_type": "markdown",
   "metadata": {},
   "source": [
    "The test error rate when the data is not normalized but the best paramters are used is lower than the one found when we normalised the data. This confirms that there is no need to normalize the USPS dataset as it doesn't improve the accuarcy and it reduces the computational efficiency."
   ]
  },
  {
   "cell_type": "markdown",
   "metadata": {},
   "source": [
    "# 3. SVM with cross-confromal prediction on the wine dataset"
   ]
  },
  {
   "cell_type": "code",
   "execution_count": 19,
   "metadata": {},
   "outputs": [],
   "source": [
    "from sklearn.datasets import load_wine\n",
    "from sklearn.model_selection import train_test_split\n",
    "wine = load_wine()\n",
    "X_train, X_test, y_train, y_test = train_test_split(wine.data, wine.target, random_state=1504)\n",
    "svc = SVC(C=1, gamma=1)"
   ]
  },
  {
   "cell_type": "markdown",
   "metadata": {},
   "source": [
    "Below I have implemented a cross-conformal prediction using 3 folds, 5 folds and 10 folds. I have used the MinMaxScaler as it was one of the scalers that gave the best test error rate in the GridSearch. "
   ]
  },
  {
   "cell_type": "code",
   "execution_count": 20,
   "metadata": {},
   "outputs": [
    {
     "name": "stdout",
     "output_type": "stream",
     "text": [
      "The average false p value for 3 fold cross-confromal prediction is: 0.009690893901420224\n",
      "The average false p value for 5 fold cross-confromal prediction is: 0.011959287531806629\n",
      "The average false p value for 10 fold cross-confromal prediction is: 0.008651399491094159\n"
     ]
    }
   ],
   "source": [
    "from sklearn.pipeline import Pipeline\n",
    "from sklearn.model_selection import KFold\n",
    "folds = [3,5,10]\n",
    "average_false_p_value = np.empty(0)\n",
    "param_grid ={'svc__C': [0.01, 0.1, 1, 10, 100],\n",
    "    'svc__gamma': [0.001, 0.01, 0.1, 1, 10, 100]}\n",
    "for f in range(len(folds)):\n",
    "    kf = KFold(shuffle=True, random_state=1504, n_splits=folds[f])\n",
    "    alpha = np.empty(0)\n",
    "    for rest_index, fold_index in kf.split(X_train):\n",
    "        X_rest, X_fold, y_rest, y_fold = X_train[rest_index], X_train[fold_index], y_train[rest_index], y_train[fold_index]\n",
    "        pipe = make_pipeline(MinMaxScaler(), SVC())\n",
    "        grid = GridSearchCV(pipe, param_grid=param_grid, cv=5, iid='True', n_jobs = -1)\n",
    "        grid.fit(X_rest, y_rest)\n",
    "        all_calibration_conformity_scores = grid.decision_function((X_fold))\n",
    "        calibration_conformity_scores = np.empty(len(all_calibration_conformity_scores))\n",
    "        for i in range(len(all_calibration_conformity_scores)):\n",
    "            calibration_conformity_scores[i] = all_calibration_conformity_scores[i,y_fold[i]]\n",
    "        X_test_conformity_scores = grid.decision_function(X_test)\n",
    "        for i in range(len(X_test)):\n",
    "            for j in range(3):\n",
    "                rank = 0\n",
    "                for k in range(len(X_fold)):\n",
    "                    if X_test_conformity_scores[i,j] >= calibration_conformity_scores[k]:\n",
    "                        rank += 1\n",
    "                alpha = np.append(alpha,rank)\n",
    "\n",
    "    alpha = alpha.reshape(folds[f],len(X_test),3) \n",
    "    p_values = (sum(alpha)+1)/((len(X_fold)*folds[f])+1)\n",
    "    false_p_value = 0\n",
    "    for a in range (len(p_values)):\n",
    "        false_p_value += np.sum(p_values[a]) - p_values[a,y_test[a]]\n",
    "    average_false_p_value = np.append(average_false_p_value, (false_p_value/(p_values.shape[0]*(p_values.shape[1]-1))))\n",
    "print(\"The average false p value for 3 fold cross-confromal prediction is:\", average_false_p_value[0])\n",
    "print(\"The average false p value for 5 fold cross-confromal prediction is:\", average_false_p_value[1])\n",
    "print(\"The average false p value for 10 fold cross-confromal prediction is:\", average_false_p_value[2])"
   ]
  },
  {
   "cell_type": "markdown",
   "metadata": {},
   "source": [
    "The lowest average false p value occurs when we used 10 folds. As the wine dataset is quite small using more folds doesn't greatly reduce the computatinal efficiency but it will start to reduce the size of the calibration sets. Having a larger number of folds will reduce the size even more and risk affecting the validity of the results. 10 folds seems to be the optimal folds for the wine dataset cross-confromal prediction."
   ]
  },
  {
   "cell_type": "code",
   "execution_count": 21,
   "metadata": {},
   "outputs": [
    {
     "data": {
      "image/png": "[encoded data removed]",
      "text/plain": [
       "<Figure size 432x288 with 1 Axes>"
      ]
     },
     "metadata": {
      "needs_background": "light"
     },
     "output_type": "display_data"
    }
   ],
   "source": [
    "import matplotlib.pyplot as plt\n",
    "eps = np.arange(0,1,0.01)\n",
    "error_rate= np.empty(0)\n",
    "for i in range(len(eps)):\n",
    "    error = 0 \n",
    "    for j in range(len(X_test)):\n",
    "        if p_values[j,y_test[j]] <= eps[i]:\n",
    "            error += 1\n",
    "    error_rate = np.append(error_rate,(error/len(X_test)))\n",
    "    \n",
    "plt.plot(eps,error_rate, color=\"r\")\n",
    "plt.xlabel(\"epsilon\")\n",
    "plt.ylabel(\"% error rate\")\n",
    "plt.title(\"Calibration curve for wine dataset\")\n",
    "plt.show()"
   ]
  },
  {
   "cell_type": "markdown",
   "metadata": {},
   "source": [
    "This is an ideal calibaration curve as it is a diagonal from (0,0) to (1,1). The slight deviations from the diaganol can be put down to the size of the dataset meaning that the law of large numbers is not in full effect."
   ]
  },
  {
   "cell_type": "markdown",
   "metadata": {},
   "source": [
    "# 4. SVM with cross-confromal prediction on the USPS datset"
   ]
  },
  {
   "cell_type": "code",
   "execution_count": 22,
   "metadata": {},
   "outputs": [],
   "source": [
    "import numpy as np\n",
    "X1 = np.genfromtxt(\"digit_test.txt\", delimiter=\" \", usecols=np.arange(256)+1)\n",
    "X2 = np.genfromtxt(\"digit_train.txt\", delimiter=\" \", usecols=np.arange(256)+1)\n",
    "y1 = np.genfromtxt(\"digit_test.txt\", delimiter=\" \", usecols=0)\n",
    "y2 = np.genfromtxt(\"digit_train.txt\", delimiter=\" \", usecols=0)\n",
    "X = np.concatenate((X1,X2))\n",
    "y = np.concatenate((y1,y2))\n",
    "X_train, X_test, y_train, y_test = train_test_split(X, y, random_state=1504)"
   ]
  },
  {
   "cell_type": "code",
   "execution_count": 24,
   "metadata": {},
   "outputs": [
    {
     "name": "stdout",
     "output_type": "stream",
     "text": [
      "The average false p value for 3 fold cross-confromal prediction is: 0.0038830642377040317\n",
      "The average false p value for 5 fold cross-confromal prediction is: 0.004020945624362554\n",
      "The average false p value for 10 fold cross-confromal prediction is: 0.003713387104486651\n"
     ]
    }
   ],
   "source": [
    "from sklearn.pipeline import Pipeline\n",
    "from sklearn.model_selection import KFold\n",
    "folds = [3,5,10]\n",
    "average_false_p_value = np.empty(0)\n",
    "param_grid ={'C': [0.01, 0.1, 1, 10, 100],\n",
    "    'gamma': [0.001, 0.01, 0.1, 1, 10, 100]}\n",
    "for f in range(len(folds)):\n",
    "    kf = KFold(shuffle=True, random_state=1504, n_splits=folds[f])\n",
    "    alpha = np.empty(0)\n",
    "    for rest_index, fold_index in kf.split(X_train):\n",
    "        X_rest, X_fold, y_rest, y_fold = X_train[rest_index], X_train[fold_index], y_train[rest_index], y_train[fold_index]\n",
    "        grid = GridSearchCV(SVC(), param_grid=param_grid, cv=5, iid='True', n_jobs = -1)\n",
    "        grid.fit(X_rest, y_rest)\n",
    "        all_calibration_conformity_scores = grid.decision_function((X_fold))\n",
    "        calibration_conformity_scores = np.empty(len(all_calibration_conformity_scores))\n",
    "        for i in range(len(all_calibration_conformity_scores)):\n",
    "            calibration_conformity_scores[i] = all_calibration_conformity_scores[i,int(y_fold[i])]\n",
    "        X_test_conformity_scores = grid.decision_function(X_test)\n",
    "        for i in range(len(X_test)):\n",
    "            for j in range(10):\n",
    "                rank = 0\n",
    "                for k in range(len(X_fold)):\n",
    "                    if X_test_conformity_scores[i,j] >= calibration_conformity_scores[k]:\n",
    "                        rank += 1\n",
    "                alpha = np.append(alpha,int(rank))\n",
    "\n",
    "    alpha = alpha.reshape(folds[f],len(X_test),10)\n",
    "    p_values = (sum(alpha)+1)/((len(X_fold)*folds[f])+1)\n",
    "    false_p_value = 0\n",
    "    for a in range (len(p_values)):\n",
    "        false_p_value += np.sum(p_values[a]) - p_values[a,int(y_test[a])]\n",
    "    average_false_p_value = np.append(average_false_p_value, (false_p_value/(p_values.shape[0]*(p_values.shape[1]-1))))\n",
    "print(\"The average false p value for 3 fold cross-confromal prediction is:\", average_false_p_value[0])\n",
    "print(\"The average false p value for 5 fold cross-confromal prediction is:\", average_false_p_value[1])\n",
    "print(\"The average false p value for 10 fold cross-confromal prediction is:\", average_false_p_value[2])"
   ]
  },
  {
   "cell_type": "markdown",
   "metadata": {},
   "source": [
    "The data isn't normalized in the cross confromal prediction as it is clear that normalization is not needed on the USPS dataset. Here the 10 fold cross-conformal prediction gives the lowest average false p value. The 10 fold cross-conformal prediction takes quite a long time to implement and therefore slightly lacks in computaional efficiency. This however is not a huge issue and the 10 fold cross-conformal predction seems the optimal option. Chosing any more folds may result in too much of as loss in compuataional efficiency considering the improvements it will make on the test error rate will be very minor."
   ]
  },
  {
   "cell_type": "code",
   "execution_count": 25,
   "metadata": {},
   "outputs": [
    {
     "data": {
      "image/png": "[encoded data removed]",
      "text/plain": [
       "<Figure size 432x288 with 1 Axes>"
      ]
     },
     "metadata": {
      "needs_background": "light"
     },
     "output_type": "display_data"
    }
   ],
   "source": [
    "%matplotlib inline\n",
    "import matplotlib.pyplot as plt\n",
    "eps = np.arange(0,1,0.01)\n",
    "error_rate= np.empty(0)\n",
    "for i in range(len(eps)):\n",
    "    error = 0 \n",
    "    for j in range(len(X_test)):\n",
    "        if p_values[j,int(y_test[j])] <= eps[i]:\n",
    "            error += 1\n",
    "    error_rate = np.append(error_rate,(error/len(X_test)))\n",
    "    \n",
    "plt.plot(eps,error_rate, color=\"b\")\n",
    "plt.xlabel(\"epsilon\")\n",
    "plt.ylabel(\"% error rate\")\n",
    "plt.title(\"Calibration curve for USPS dataset\")\n",
    "plt.show()"
   ]
  },
  {
   "cell_type": "markdown",
   "metadata": {},
   "source": [
    "Here we see the calibration curve is much more true to the diagonal line. This can be down to the USPS dataset being so large. Due to this the error rate closes in on the true value of epsilon, this is due to the law of large numbers."
   ]
  },
  {
   "cell_type": "markdown",
   "metadata": {},
   "source": [
    "# 5. Results\n"
   ]
  },
  {
   "cell_type": "markdown",
   "metadata": {},
   "source": [
    "### All results rounded to 3 significant figures\n",
    "\n",
    "* non normalized wine dataset generalization accuracy of SVM with the default values of the parameter: 0.436\n",
    "* non normalized wine dataset test error rate for the SVM with the default values of the parameters: 0.622\n",
    "* wine dataset test error rate of GridSearchCV for MinMaxScaler: 0.0222\n",
    "* wine dataset test error rate of GridSearchCV for StandardScaler: 0.0222\n",
    "* wine dataset test error rate of GridSearchCV for no scaler: 0.178\n",
    "* wine dataset average false p value for 10 fold cross-conformal prediction: 0.00865\n",
    "* non normalized USPS dataset generalization accuracy of SVM with the default values of the parameter: 0.969\n",
    "* non normalized USPS dataset test error rate for the SVM with the default values of the parameters: 0.0348\n",
    "* USPS dataset test error rate of GridSearchCV for Normalizer: 0.0280\n",
    "* USPS dataset test error rate of GridSearchCV for MinMaxScaler: 0.0293\n",
    "* USPS dataset test error rate of GridSearchCV for no scaler: 0.0262\n",
    "* USPS dataset average false p value for 10 fold cross-conformal prediction: 0.00371"
   ]
  }
 ],
 "metadata": {
  "kernelspec": {
   "display_name": "Python 3",
   "language": "python",
   "name": "python3"
  },
  "language_info": {
   "codemirror_mode": {
    "name": "ipython",
    "version": 3
   },
   "file_extension": ".py",
   "mimetype": "text/x-python",
   "name": "python",
   "nbconvert_exporter": "python",
   "pygments_lexer": "ipython3",
   "version": "3.7.3"
  }
 },
 "nbformat": 4,
 "nbformat_minor": 2
}
